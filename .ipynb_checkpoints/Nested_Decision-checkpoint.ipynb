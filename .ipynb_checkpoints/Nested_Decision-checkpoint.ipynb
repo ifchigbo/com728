{
 "cells": [
  {
   "cell_type": "markdown",
   "id": "bd9d7f45",
   "metadata": {},
   "source": [
    "# Activity 2.2.1: Nested "
   ]
  },
  {
   "cell_type": "code",
   "execution_count": 30,
   "id": "e9854ec9",
   "metadata": {},
   "outputs": [
    {
     "name": "stdout",
     "output_type": "stream",
     "text": [
      "Enter a book cover type: Hard\n",
      "\n",
      "Books with hard covers can be more expensive !\n"
     ]
    }
   ],
   "source": [
    "#I created a list below to hold the type of book covers (hard or soft)\n",
    "my_bookcover_list =[\"soft\",\"hard\"]\n",
    "\n",
    "# I am creating a variable below to hold response expected for soft cover books \n",
    "response_for_softcover=\"yes\"\n",
    "\n",
    "mybook_cover = input(\"Enter a book cover type: \")\n",
    "print(\"\")\n",
    "\n",
    "#I am using the capitalize function to cover for instances where the first character of the input string is case sensitive\n",
    "if mybook_cover == my_bookcover_list[0] or mybook_cover == my_bookcover_list[0].capitalize():\n",
    "    \n",
    "    #Enter a yes or no - the code below also takes care of case sensitive responses\n",
    "    book_cover_type_response = input(\"Is your book cover type a perfect bound ?: \")\n",
    "    print(\"\")\n",
    "    if book_cover_type_response == response_for_softcover or book_cover_type_response == response_for_softcover.capitalize() :\n",
    "        print(\"Soft Cover, perfect bound books are very popular!\")\n",
    "    else:\n",
    "        print(\"Soft cover with coils or stitches are great for short books\")\n",
    "elif mybook_cover == my_bookcover_list[1] or mybook_cover == my_bookcover_list[1].capitalize():\n",
    "    print(\"Books with hard covers can be more expensive !\")\n",
    "\n",
    "else:\n",
    "    print(\"Please enter a valid book cover type\")"
   ]
  },
  {
   "cell_type": "markdown",
   "id": "0dc3b374",
   "metadata": {},
   "source": [
    "# Activity 2.2.2: multi_nested_decision\n",
    "    "
   ]
  },
  {
   "cell_type": "code",
   "execution_count": 36,
   "id": "629324fa",
   "metadata": {},
   "outputs": [
    {
     "name": "stdout",
     "output_type": "stream",
     "text": [
      "Where should i look ? in the bathroom\n",
      "Where in the bathroom should i look? :in the bathtub\n",
      "Found a rubber duck but no battery\n"
     ]
    }
   ],
   "source": [
    "find_spare_part = input(\"Where should i look ? \")\n",
    "print(\"\")\n",
    "\n",
    "#I will create a list below to hold the locations and sub locations of the spare parts for beep\n",
    "locations = ['in the bed room', 'in the bathroom', 'in the lab',]\n",
    "sub_locations = ['under the bed', 'in the bathtub', 'on the table']\n",
    "\n",
    "if find_spare_part == locations[0]:\n",
    "    location_bedroom = input(\"Where should i loook ? :\")\n",
    "    print(\"\")\n",
    "    if location_bedroom == sub_locations[0]:\n",
    "        print(\"Found some shoes but no battery\")\n",
    "    else:\n",
    "        print(\"Found some mess but no battery\")\n",
    "\n",
    "elif find_spare_part == locations[1]:\n",
    "    location_bathroom = input(\"Where in the bathroom should i look? :\")\n",
    "    print(\"\")\n",
    "    if location_bathroom == sub_locations[1]:\n",
    "        print(\"Found a rubber duck but no battery\")\n",
    "    else:\n",
    "        print(\"Found a wet surface but no battery\")\n",
    "elif find_spare_part == locations[2]:\n",
    "    location_lab = input(\"Where in the lab should i look? : \")\n",
    "    print(\"\")\n",
    "    if location_lab == sub_locations[2]:\n",
    "        print(\"Yes! I found my battery!\")\n",
    "    else:\n",
    "        print(\"Found some tools but no battery\")\n",
    "else:\n",
    "    print(\"I do not know where that is but i will keep looking.\")\n"
   ]
  },
  {
   "cell_type": "code",
   "execution_count": null,
   "id": "4456f21b",
   "metadata": {},
   "outputs": [],
   "source": []
  }
 ],
 "metadata": {
  "kernelspec": {
   "display_name": "Python 3 (ipykernel)",
   "language": "python",
   "name": "python3"
  },
  "language_info": {
   "codemirror_mode": {
    "name": "ipython",
    "version": 3
   },
   "file_extension": ".py",
   "mimetype": "text/x-python",
   "name": "python",
   "nbconvert_exporter": "python",
   "pygments_lexer": "ipython3",
   "version": "3.9.0"
  }
 },
 "nbformat": 4,
 "nbformat_minor": 5
}
