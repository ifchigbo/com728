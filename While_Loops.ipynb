{
 "cells": [
  {
   "cell_type": "markdown",
   "id": "e43963ed",
   "metadata": {},
   "source": [
    "# Activity 2.1.1: Simple loop"
   ]
  },
  {
   "cell_type": "code",
   "execution_count": 4,
   "id": "b64526c8",
   "metadata": {},
   "outputs": [
    {
     "name": "stdout",
     "output_type": "stream",
     "text": [
      "How many cables should i remove ? : 3\n",
      "\n",
      "Removed cable\n",
      "\n",
      "Removed cable\n",
      "\n",
      "Removed cable\n",
      "\n"
     ]
    }
   ],
   "source": [
    "cables = int(input(\"How many cables should i remove ? : \"))\n",
    "print(\"\")\n",
    "cable_count = 0\n",
    "\n",
    "while cable_count < cables:\n",
    "    print(\"Removed cable\")\n",
    "    print(\"\")\n",
    "    cable_count +=1\n",
    "    "
   ]
  },
  {
   "cell_type": "markdown",
   "id": "533d90e8",
   "metadata": {},
   "source": [
    "# Activity 2.1.2: count"
   ]
  },
  {
   "cell_type": "code",
   "execution_count": 8,
   "id": "cd38ecc3",
   "metadata": {},
   "outputs": [
    {
     "name": "stdout",
     "output_type": "stream",
     "text": [
      "How many cables must i avoid ? : 3\n",
      "\n",
      "Avoiding .....\n",
      "..... Done! , 1 live cables avioded !\n",
      "Avoiding .....\n",
      "..... Done! , 2 live cables avioded !\n",
      "Avoiding .....\n",
      "..... Done! , 3 live cables avioded !\n",
      "\n",
      "All live cables have been avoided.\n"
     ]
    }
   ],
   "source": [
    "read_cable_input= int(input(\"How many cables must i avoid ? : \"))\n",
    "cable_count = 0\n",
    "print(\"\")\n",
    "while cable_count < read_cable_input: \n",
    "    print(\"Avoiding .....\")\n",
    "    cable_count +=1\n",
    "    print(\"..... Done! , {} live cables avioded !\".format(cable_count))\n",
    "\n",
    "print(\"\")\n",
    "print(\"All live cables have been avoided.\")"
   ]
  },
  {
   "cell_type": "markdown",
   "id": "248ca7de",
   "metadata": {},
   "source": [
    "# Activity 2.1.3: ascii"
   ]
  },
  {
   "cell_type": "code",
   "execution_count": 17,
   "id": "10ef74ad",
   "metadata": {},
   "outputs": [
    {
     "name": "stdout",
     "output_type": "stream",
     "text": [
      "How many bars should be charged? : 3\n",
      "\n",
      "Charging: ❚\n",
      "Charging: ❚❚\n",
      "Charging: ❚❚❚\n",
      "\n",
      "The Battery is fully charged !.\n"
     ]
    }
   ],
   "source": [
    "#input the number of energy bars to charge\n",
    "bars_to_charge = int(input(\"How many bars should be charged? : \"))\n",
    "print(\"\")\n",
    "charge_count = 0 \n",
    "\n",
    "while charge_count < bars_to_charge:\n",
    "    charge_count += 1\n",
    "    print(\"Charging: {}\".format(\"\\u275A\" * charge_count))\n",
    "\n",
    "print(\"\")\n",
    "    \n",
    "print(\"The Battery is fully charged !.\")"
   ]
  },
  {
   "cell_type": "markdown",
   "id": "5f71ec9a",
   "metadata": {},
   "source": [
    "# 'Activity 2.1.4: 'sum_100'"
   ]
  },
  {
   "cell_type": "code",
   "execution_count": 2,
   "id": "a29cc86c",
   "metadata": {},
   "outputs": [
    {
     "name": "stdout",
     "output_type": "stream",
     "text": [
      "Calculation the sum of the first 100 numbers  ... \n",
      "....Done! The answer is 5050\n"
     ]
    }
   ],
   "source": [
    "print(\"Calculation the sum of the first 100 numbers  ... \")\n",
    "count_num = 1\n",
    "accumulator = 0\n",
    "\n",
    "while count_num <= 100:\n",
    "    accumulator +=count_num\n",
    "    count_num +=1\n",
    "\n",
    "print(\"....Done! The answer is {}\".format(accumulator))\n",
    "\n"
   ]
  },
  {
   "cell_type": "markdown",
   "id": "82ef27cb",
   "metadata": {},
   "source": [
    "# Activity 2.1.5: 'sum_user_numbers'"
   ]
  },
  {
   "cell_type": "code",
   "execution_count": 46,
   "id": "39fb31f0",
   "metadata": {},
   "outputs": [
    {
     "name": "stdout",
     "output_type": "stream",
     "text": [
      "How many numbers should i sum ? : 2\n",
      "\n",
      "Please enter number 1 of 2 : 1\n",
      "\n",
      "Please enter number 2 of 2 : 2\n",
      "\n",
      "The answer is 3\n"
     ]
    }
   ],
   "source": [
    "numbers_to_sum = int(input(\"How many numbers should i sum ? : \"))\n",
    "print(\"\")\n",
    "count = 0\n",
    "total = 0\n",
    "\n",
    "while count < numbers_to_sum:\n",
    "    #my_numbers = input(\"Please enter a number: \")\n",
    "    count +=1\n",
    "    #print(\"Please enter number {} of {}\".format(count,numbers_to_sum))\n",
    "    my_number = int(input(\"Please enter number {} of {} : \".format(count,numbers_to_sum)))\n",
    "    print(\"\")\n",
    "    \n",
    "    total += my_number\n",
    "\n",
    "print(\"The answer is: {}\". format(total))"
   ]
  },
  {
   "cell_type": "markdown",
   "id": "2262747c",
   "metadata": {},
   "source": []
  }
 ],
 "metadata": {
  "kernelspec": {
   "display_name": "Python 3.9.0 ('MLseries': venv)",
   "language": "python",
   "name": "python3"
  },
  "language_info": {
   "codemirror_mode": {
    "name": "ipython",
    "version": 3
   },
   "file_extension": ".py",
   "mimetype": "text/x-python",
   "name": "python",
   "nbconvert_exporter": "python",
   "pygments_lexer": "ipython3",
   "version": "3.9.0"
  },
  "vscode": {
   "interpreter": {
    "hash": "3f8122ea538cd25ab16c16404576ed6f8cdf54d3516a53da4285bbcfeaea58c4"
   }
  }
 },
 "nbformat": 4,
 "nbformat_minor": 5
}
