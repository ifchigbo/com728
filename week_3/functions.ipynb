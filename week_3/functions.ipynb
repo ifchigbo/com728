{
 "cells": [
  {
   "cell_type": "markdown",
   "metadata": {},
   "source": [
    "# lets work on Functions"
   ]
  },
  {
   "cell_type": "code",
   "execution_count": 3,
   "metadata": {},
   "outputs": [
    {
     "name": "stdout",
     "output_type": "stream",
     "text": [
      "Hello World\n"
     ]
    }
   ],
   "source": [
    "def getMessages():\n",
    "    print(\"Hello World\")\n",
    "\n",
    "\n",
    "getMessages()"
   ]
  },
  {
   "cell_type": "code",
   "execution_count": 16,
   "metadata": {},
   "outputs": [
    {
     "name": "stdout",
     "output_type": "stream",
     "text": [
      "Program Started !\n",
      "Please enter a standard character\n",
      "1\n",
      "The  ASCII code you entered is 116 \n",
      "Program Ended !\n"
     ]
    }
   ],
   "source": [
    "print(\"Program Started !\")\n",
    "print(\"Please enter a standard character\")\n",
    "std_char = input()\n",
    "print(len(std_char))\n",
    "#print(ord(std_char))\n",
    "print(\"The  ASCII code you entered is {} \".format(ord(std_char)))\n",
    "print(\"Program Ended !\")"
   ]
  },
  {
   "cell_type": "code",
   "execution_count": 39,
   "metadata": {},
   "outputs": [
    {
     "name": "stdout",
     "output_type": "stream",
     "text": [
      "Program  Started !\n",
      "You did not enter a valid character\n",
      "Program Ended !\n"
     ]
    }
   ],
   "source": [
    "print(\"Program  Started !\")\n",
    "list_elem = [] \n",
    "std_char_ele = int(input(\"Please enter an ASCII code: \"))\n",
    "for elements in range(32,127):\n",
    "    if elements == std_char_ele:\n",
    "        print(chr(std_char_ele))\n",
    "    else:\n",
    "        print(\"You did not enter a valid character\")\n",
    "        break\n",
    "print(\"Program Ended !\")\n",
    "#print(chr(std_char_ele))\n",
    "#print(\"you entered  {}\".format(abs(std_char_ele)))\n",
    "#print(\"The character represented by the ASCII is {}\".format(ord(std_char_ele)))"
   ]
  },
  {
   "cell_type": "code",
   "execution_count": 27,
   "metadata": {},
   "outputs": [
    {
     "name": "stdout",
     "output_type": "stream",
     "text": [
      "1\n",
      "2\n",
      "3\n",
      "4\n",
      "5\n",
      "6\n",
      "7\n",
      "8\n",
      "9\n",
      "10\n"
     ]
    }
   ],
   "source": [
    "for items in range(1,11):\n",
    "    print(items)"
   ]
  },
  {
   "cell_type": "code",
   "execution_count": 58,
   "metadata": {},
   "outputs": [
    {
     "name": "stdout",
     "output_type": "stream",
     "text": [
      "The result of your addtion operation is 3\n"
     ]
    }
   ],
   "source": [
    "#Additon, Substraction, Multiplicaton\n",
    "\n",
    "def Addition(num1, num2):\n",
    "    return num1 + num2 \n",
    "\n",
    "def Sub(num1, num2):\n",
    "    return num1 - num2 \n",
    "\n",
    "def Mul(num1, num2):\n",
    "    return num1 * num2 \n",
    "\n",
    "num1 = int(input(\"Enter the first number: \"))\n",
    "num2 = int(input(\"Enter the second number: \"))\n",
    "operation = input(\"enter the operation you want to execute: \")\n",
    "\n",
    "\n",
    "if operation == \"+\":\n",
    "    if num1 <= num2 or num1 >= num2:\n",
    "        print(\"The result of your addtion operation is {}\".format(Addition(num1,  num2 )))\n",
    "\n",
    "elif operation == \"-\":\n",
    "    if num1 >  num2:\n",
    "        print(\"The result of your subtraction operation is {}\".format(Sub(num1,num2)))\n",
    "    else:\n",
    "        print\n",
    "elif operation == \"*\":\n",
    "    print(\"The result of your multiplication operation is {}\".format(Mul(num1,num2)))\n",
    "else: \n",
    "    print(\"Invallid operation\")\n",
    "\n"
   ]
  },
  {
   "cell_type": "code",
   "execution_count": 59,
   "metadata": {},
   "outputs": [
    {
     "name": "stdout",
     "output_type": "stream",
     "text": [
      "557\n",
      "123\n",
      "186\n",
      "610\n",
      "301\n",
      "148\n",
      "204\n",
      "513\n",
      "230\n",
      "353\n",
      "249\n",
      "545\n",
      "487\n",
      "46\n",
      "589\n",
      "539\n",
      "590\n",
      "621\n",
      "177\n",
      "577\n",
      "280\n",
      "451\n",
      "9\n",
      "659\n",
      "638\n",
      "510\n",
      "646\n",
      "664\n",
      "170\n",
      "535\n",
      "309\n",
      "316\n",
      "281\n",
      "255\n",
      "89\n",
      "86\n",
      "511\n",
      "611\n",
      "644\n",
      "122\n",
      "104\n",
      "407\n",
      "611\n",
      "382\n",
      "229\n",
      "356\n",
      "663\n",
      "385\n",
      "166\n",
      "430\n",
      "142\n",
      "367\n",
      "516\n",
      "370\n",
      "353\n",
      "390\n",
      "42\n",
      "453\n",
      "425\n",
      "558\n",
      "560\n",
      "310\n",
      "497\n",
      "386\n",
      "195\n",
      "121\n",
      "609\n",
      "662\n",
      "396\n",
      "151\n",
      "635\n",
      "340\n",
      "446\n",
      "528\n",
      "281\n",
      "613\n",
      "59\n",
      "223\n",
      "162\n",
      "448\n",
      "99\n",
      "611\n",
      "453\n",
      "592\n",
      "123\n",
      "665\n",
      "481\n",
      "120\n",
      "217\n",
      "516\n",
      "332\n",
      "646\n",
      "218\n",
      "339\n",
      "379\n",
      "433\n",
      "570\n",
      "268\n",
      "181\n"
     ]
    }
   ],
   "source": [
    "import random as rnd\n",
    "for elements in range(1,100):\n",
    "    print(rnd.randint(2,670))"
   ]
  },
  {
   "cell_type": "code",
   "execution_count": 66,
   "metadata": {},
   "outputs": [
    {
     "name": "stdout",
     "output_type": "stream",
     "text": [
      "11\n"
     ]
    }
   ],
   "source": [
    "print(rnd.randint(2,40))"
   ]
  },
  {
   "cell_type": "code",
   "execution_count": null,
   "metadata": {},
   "outputs": [],
   "source": []
  }
 ],
 "metadata": {
  "kernelspec": {
   "display_name": "Python 3.9.0 ('MLseries': venv)",
   "language": "python",
   "name": "python3"
  },
  "language_info": {
   "codemirror_mode": {
    "name": "ipython",
    "version": 3
   },
   "file_extension": ".py",
   "mimetype": "text/x-python",
   "name": "python",
   "nbconvert_exporter": "python",
   "pygments_lexer": "ipython3",
   "version": "3.9.0"
  },
  "orig_nbformat": 4,
  "vscode": {
   "interpreter": {
    "hash": "3f8122ea538cd25ab16c16404576ed6f8cdf54d3516a53da4285bbcfeaea58c4"
   }
  }
 },
 "nbformat": 4,
 "nbformat_minor": 2
}
