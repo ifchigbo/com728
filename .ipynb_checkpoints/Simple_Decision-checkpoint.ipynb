{
 "cells": [
  {
   "cell_type": "markdown",
   "id": "1cc26043",
   "metadata": {},
   "source": [
    "# Activity 2.1.1: if_statement"
   ]
  },
  {
   "cell_type": "code",
   "execution_count": 131,
   "id": "9efe1b0a",
   "metadata": {},
   "outputs": [
    {
     "name": "stdout",
     "output_type": "stream",
     "text": [
      "enter the type of book you want to read: we\n",
      "\n",
      "\n",
      "Finished Reading book!\n"
     ]
    }
   ],
   "source": [
    "book = input(\"enter the type of book you want to read: \")\n",
    "#Below we created a list to hold differen literature genres\n",
    "literature_genre = ['adventure']\n",
    "\n",
    "print(\"\")\n",
    "\n",
    "for books in literature_genre:\n",
    "    if books == book:\n",
    "        print(\"I like adventure books!\")\n",
    "        \n",
    "print(\"\")\n",
    "print(\"Finished Reading book!\")"
   ]
  },
  {
   "cell_type": "markdown",
   "id": "6b80a409",
   "metadata": {},
   "source": [
    "# Activity 2.1.2: if_else statement"
   ]
  },
  {
   "cell_type": "code",
   "execution_count": 133,
   "id": "231c57be",
   "metadata": {},
   "outputs": [
    {
     "name": "stdout",
     "output_type": "stream",
     "text": [
      "enter activity to be performed: Calculate\n",
      "\n",
      "Performing Calculations.......\n",
      "\n",
      "Activity Completed!\n"
     ]
    }
   ],
   "source": [
    "activity = input(\"enter activity to be performed: \")\n",
    "print(\"\")\n",
    "\n",
    "if activity == \"calculate\" or activity.capitalize() == \"Calculate\":\n",
    "    print(\"Performing Calculations.......\")\n",
    "else:\n",
    "    print(\"Performing actvity ............\")\n",
    "        \n",
    "print(\"\")\n",
    "print(\"Activity Completed!\")"
   ]
  },
  {
   "cell_type": "markdown",
   "id": "4f488fb7",
   "metadata": {},
   "source": [
    "# Activity 2.1.3: if-elif-else statement"
   ]
  },
  {
   "cell_type": "code",
   "execution_count": 139,
   "id": "239f46aa",
   "metadata": {},
   "outputs": [
    {
     "name": "stdout",
     "output_type": "stream",
     "text": [
      "Enter the direction you want to paint with the paint brush: w\n",
      "\n",
      "I am taking a break from painting .......\n"
     ]
    }
   ],
   "source": [
    "paint_direction = input(\"Enter the direction you want to paint with the paint brush: \")\n",
    "\n",
    "#below we created a list to hold the. possible directions the paint brush can be used\n",
    "\n",
    "paint_brush_direction = ['up','right', 'down', 'left']\n",
    "\n",
    "print(\"\")\n",
    "\n",
    "if paint_direction == paint_brush_direction[0]:\n",
    "    print(\"I am painting in the {}wards direction !\".format(paint_direction))\n",
    "elif paint_direction == paint_brush_direction[1]:\n",
    "    print(\"I am painting in the {} direction !\".format(paint_direction))\n",
    "elif paint_direction == paint_brush_direction[2]:\n",
    "    print(\"I am painting in the {}wards direction !\".format(paint_direction))\n",
    "elif paint_direction == paint_brush_direction[3]:\n",
    "    print(\"I am painting in the {} direction !\".format(paint_direction))\n",
    "else:\n",
    "    print(\"I am taking a break from painting .......\")\n",
    "    \n",
    "   "
   ]
  },
  {
   "cell_type": "markdown",
   "id": "07ac90c9",
   "metadata": {},
   "source": [
    "# Activity 2.1.4: modulo_operator"
   ]
  },
  {
   "cell_type": "code",
   "execution_count": 141,
   "id": "8d05fa70",
   "metadata": {},
   "outputs": [
    {
     "name": "stdout",
     "output_type": "stream",
     "text": [
      "Input a number: 12\n",
      "\n",
      "The number 12.0 is an even number\n"
     ]
    }
   ],
   "source": [
    "number = float(input(\"Input a number: \"))\n",
    "print(\"\")\n",
    "num_reference = 2\n",
    "\n",
    "if (number % 2) == 0:\n",
    "    print(\"The number {} is an even number\".format(number))\n",
    "else:\n",
    "    print(\"The number {} is an odd number\".format(number))\n"
   ]
  },
  {
   "cell_type": "code",
   "execution_count": 143,
   "id": "59454d1b",
   "metadata": {},
   "outputs": [
    {
     "name": "stdout",
     "output_type": "stream",
     "text": [
      "Input a number: 23.4\n",
      "\n",
      "Please Enter a whole number\n"
     ]
    }
   ],
   "source": [
    "number = float(input(\"Input a number: \"))\n",
    "print(\"\")\n",
    "mod_reference_value = 2\n",
    "\n",
    "if float(number.is_integer()):\n",
    "    result = number % 2 \n",
    "    if result == 0:\n",
    "        print(\"The number {} is an even number\".format(number))\n",
    "    else:\n",
    "        print(\"The number {} is an odd number\".format(number))\n",
    "else:\n",
    "    print(\"Please Enter a whole number\")\n",
    "\n"
   ]
  },
  {
   "cell_type": "code",
   "execution_count": 145,
   "id": "48d5c298",
   "metadata": {},
   "outputs": [
    {
     "name": "stdout",
     "output_type": "stream",
     "text": [
      "please enter your first number: 34\n",
      "\n",
      "please enter your second number: 1\n",
      "The second number '1' is the smallest: \n"
     ]
    }
   ],
   "source": [
    "number_1 = input(\"please enter your first number: \")\n",
    "print(\"\")\n",
    "number_2 = input(\"please enter your second number: \")\n",
    "\n",
    "if number_1 > number_2:\n",
    "    print(\"The second number '{}' is the smallest: \".format(number_2))\n",
    "elif number_1 < number_2:\n",
    "    print(\"The first number '{}' is the smallest: \".format(number_1))\n",
    "else:\n",
    "    print(\"Both numbers '{}' and '{}' are equal in value:\".format(number_1, number_2))"
   ]
  },
  {
   "cell_type": "markdown",
   "id": "eabd53f6",
   "metadata": {},
   "source": [
    "# Activity 2.1.6: Counter"
   ]
  },
  {
   "cell_type": "code",
   "execution_count": 129,
   "id": "fa18b02b",
   "metadata": {},
   "outputs": [
    {
     "name": "stdout",
     "output_type": "stream",
     "text": [
      "Enter your number at count 1 : 3\n",
      "Enter your number at count 2 : 3\n",
      "Enter your number at count 3 : 2\n",
      "There were 1 even numbers and 2 odd numbers\n"
     ]
    }
   ],
   "source": [
    "counter = 0 \n",
    "number_list = []\n",
    "mod_reference_value = 2\n",
    "\n",
    "odd_numbers = []\n",
    "even_numbers = []\n",
    "\n",
    "\n",
    "while counter < 3:\n",
    "    number = input(\"Enter your number at count {} : \".format(counter+1))\n",
    "    number_list.append(number)\n",
    "    counter +=1 \n",
    "\n",
    "for numbers in number_list:\n",
    "    result = int(numbers) % mod_reference_value\n",
    "    if (result == 0):\n",
    "        even_numbers.append(numbers)\n",
    "    else:\n",
    "        odd_numbers.append(numbers)\n",
    "\n",
    "print(\"There were {} even numbers and {} odd numbers\".format(len(even_numbers), len(odd_numbers))) "
   ]
  },
  {
   "cell_type": "code",
   "execution_count": null,
   "id": "2a0ce99a",
   "metadata": {},
   "outputs": [],
   "source": []
  },
  {
   "cell_type": "code",
   "execution_count": null,
   "id": "080bbd59",
   "metadata": {},
   "outputs": [],
   "source": []
  },
  {
   "cell_type": "code",
   "execution_count": null,
   "id": "91e5f092",
   "metadata": {},
   "outputs": [],
   "source": []
  },
  {
   "cell_type": "code",
   "execution_count": null,
   "id": "fe1dabac",
   "metadata": {},
   "outputs": [],
   "source": []
  }
 ],
 "metadata": {
  "kernelspec": {
   "display_name": "Python 3 (ipykernel)",
   "language": "python",
   "name": "python3"
  },
  "language_info": {
   "codemirror_mode": {
    "name": "ipython",
    "version": 3
   },
   "file_extension": ".py",
   "mimetype": "text/x-python",
   "name": "python",
   "nbconvert_exporter": "python",
   "pygments_lexer": "ipython3",
   "version": "3.9.0"
  }
 },
 "nbformat": 4,
 "nbformat_minor": 5
}
