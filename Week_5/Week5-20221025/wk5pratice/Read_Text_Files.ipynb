{
 "cells": [
  {
   "cell_type": "markdown",
   "id": "3bb82ef8",
   "metadata": {},
   "source": [
    "# Activity 2.1.1: read_all"
   ]
  },
  {
   "cell_type": "code",
   "execution_count": 27,
   "id": "504f5105",
   "metadata": {},
   "outputs": [
    {
     "name": "stdout",
     "output_type": "stream",
     "text": [
      "No one has ever become poor by giving. [Anne Frank]\n",
      "What’s in a name? A rose by any other name would smell as sweet. [Shakespeare]\n",
      "Let the beauty of what you love be what you do. [Rumi]\n",
      "The time is always right to do what is right. [Martin Luther King, Jr.]\n",
      "Few are those who see with their own eyes and feel with their own hearts. [Einstein]\n",
      "In a gentle way, you can shake the world. [Gandhi]\n",
      "Feet, what do I need you for when I have wings to fly? [Frida Kahlo]\n",
      "What is done cannot be undone, but one can prevent it happening again. [Anne Frank]\n",
      "Wherever you are, and whatever you do, be in love. [Rumi]\n",
      "I paint flowers so they will not die. [Frida Kahlo]\n",
      "Only from the heart can you touch the sky. [Rumi]\n",
      "I hear and I forget. I see and I remember. I do and I understand. [Confucius]\n",
      "\n"
     ]
    }
   ],
   "source": [
    "import os\n",
    "\n",
    "# using the function call below to verify my file location.\n",
    "os.getcwd()\n",
    "\n",
    "# I am using an absolute file path below\n",
    "file = \"/Users/ichigbo/Documents/dataML_data_science/MLseries/solent/Week_5/Week5-20221025/wk5pratice/quote.txt\"\n",
    "my_file = open(file, 'r')\n",
    "\n",
    "print(my_file.read())\n",
    "\n",
    "my_file.close()\n"
   ]
  },
  {
   "cell_type": "markdown",
   "id": "eebb0970",
   "metadata": {},
   "source": [
    "# Activity 2.1.2: read_single"
   ]
  },
  {
   "cell_type": "code",
   "execution_count": 36,
   "id": "018b2353",
   "metadata": {},
   "outputs": [
    {
     "name": "stdout",
     "output_type": "stream",
     "text": [
      "No one has ever become poor by giving. [Anne Frank]\n",
      "\n"
     ]
    }
   ],
   "source": [
    "# making use of an absolute file path below\n",
    "file = \"/Users/ichigbo/Documents/dataML_data_science/MLseries/solent/Week_5/Week5-20221025/wk5pratice/quote.txt\"\n",
    "my_file = open(file, 'r')\n",
    "print(my_file.readline())\n",
    "my_file.close()\n",
    "\n"
   ]
  },
  {
   "cell_type": "markdown",
   "id": "85a3342f",
   "metadata": {},
   "source": [
    "# Activity 2.1.3: read_lines"
   ]
  },
  {
   "cell_type": "code",
   "execution_count": 25,
   "id": "976e1e18",
   "metadata": {},
   "outputs": [
    {
     "name": "stdout",
     "output_type": "stream",
     "text": [
      "['No one has ever become poor by giving. [Anne Frank]\\n', 'What’s in a name? A rose by any other name would smell as sweet. [Shakespeare]\\n', 'Let the beauty of what you love be what you do. [Rumi]\\n', 'The time is always right to do what is right. [Martin Luther King, Jr.]\\n', 'Few are those who see with their own eyes and feel with their own hearts. [Einstein]\\n', 'In a gentle way, you can shake the world. [Gandhi]\\n', 'Feet, what do I need you for when I have wings to fly? [Frida Kahlo]\\n', 'What is done cannot be undone, but one can prevent it happening again. [Anne Frank]\\n', 'Wherever you are, and whatever you do, be in love. [Rumi]\\n', 'I paint flowers so they will not die. [Frida Kahlo]\\n', 'Only from the heart can you touch the sky. [Rumi]\\n', 'I hear and I forget. I see and I remember. I do and I understand. [Confucius]\\n']\n"
     ]
    }
   ],
   "source": [
    "# making use of an absolute file path below\n",
    "file = \"/Users/ichigbo/Documents/dataML_data_science/MLseries/solent/Week_5/Week5-20221025/wk5pratice/quote.txt\"\n",
    "my_file = open(file, 'r')\n",
    "print(my_file.readlines())\n",
    "my_file.close()"
   ]
  },
  {
   "cell_type": "markdown",
   "id": "0b240c37",
   "metadata": {},
   "source": [
    "# Activity 2.1.4: auto_close"
   ]
  },
  {
   "cell_type": "code",
   "execution_count": 33,
   "id": "c41027cc",
   "metadata": {},
   "outputs": [
    {
     "name": "stdout",
     "output_type": "stream",
     "text": [
      "No one has ever become poor by giving. [Anne Frank]\n",
      "\n",
      "What’s in a name? A rose by any other name would smell as sweet. [Shakespeare]\n",
      "\n",
      "Let the beauty of what you love be what you do. [Rumi]\n",
      "\n",
      "The time is always right to do what is right. [Martin Luther King, Jr.]\n",
      "\n",
      "Few are those who see with their own eyes and feel with their own hearts. [Einstein]\n",
      "\n",
      "In a gentle way, you can shake the world. [Gandhi]\n",
      "\n",
      "Feet, what do I need you for when I have wings to fly? [Frida Kahlo]\n",
      "\n",
      "What is done cannot be undone, but one can prevent it happening again. [Anne Frank]\n",
      "\n",
      "Wherever you are, and whatever you do, be in love. [Rumi]\n",
      "\n",
      "I paint flowers so they will not die. [Frida Kahlo]\n",
      "\n",
      "Only from the heart can you touch the sky. [Rumi]\n",
      "\n",
      "I hear and I forget. I see and I remember. I do and I understand. [Confucius]\n",
      "\n"
     ]
    }
   ],
   "source": [
    "# making use of an absolute file path below\n",
    "file_path = file = \"/Users/ichigbo/Documents/dataML_data_science/MLseries/solent/Week_5/Week5-20221025/wk5pratice/quote.txt\"\n",
    "\n",
    "with open(file_path, 'r') as  my_file:\n",
    "    #print(my_file.readlines())\n",
    "    for lines in my_file.readlines():\n",
    "        print(lines)\n",
    "    my_file.close()"
   ]
  },
  {
   "cell_type": "markdown",
   "id": "f87147bc",
   "metadata": {},
   "source": [
    "# Activity 2.1.5: error_handling"
   ]
  },
  {
   "cell_type": "code",
   "execution_count": 37,
   "id": "ff424b0a",
   "metadata": {},
   "outputs": [
    {
     "name": "stdout",
     "output_type": "stream",
     "text": [
      "Cannot read file\n"
     ]
    }
   ],
   "source": [
    "bad_file_path = \"badfile.txt\"\n",
    "try:\n",
    "    with open(bad_file_path,'r') as my_file:\n",
    "        print(my_file.readlines())\n",
    "    my_file.close()\n",
    "except IOError:\n",
    "    print(\"Cannot read file\")"
   ]
  },
  {
   "cell_type": "markdown",
   "id": "c3ec0841",
   "metadata": {},
   "source": [
    "# Activity 2.1.6: user_file_path"
   ]
  },
  {
   "cell_type": "code",
   "execution_count": 53,
   "id": "cc5e5b14",
   "metadata": {},
   "outputs": [
    {
     "name": "stdout",
     "output_type": "stream",
     "text": [
      "enter your file pathquote.txt\n",
      "['No one has ever become poor by giving. [Anne Frank]\\n', 'What’s in a name? A rose by any other name would smell as sweet. [Shakespeare]\\n', 'Let the beauty of what you love be what you do. [Rumi]\\n', 'The time is always right to do what is right. [Martin Luther King, Jr.]\\n', 'Few are those who see with their own eyes and feel with their own hearts. [Einstein]\\n', 'In a gentle way, you can shake the world. [Gandhi]\\n', 'Feet, what do I need you for when I have wings to fly? [Frida Kahlo]\\n', 'What is done cannot be undone, but one can prevent it happening again. [Anne Frank]\\n', 'Wherever you are, and whatever you do, be in love. [Rumi]\\n', 'I paint flowers so they will not die. [Frida Kahlo]\\n', 'Only from the heart can you touch the sky. [Rumi]\\n', 'I hear and I forget. I see and I remember. I do and I understand. [Confucius]\\n']\n"
     ]
    }
   ],
   "source": [
    "file_path = input(\"enter your file path\")\n",
    "\n",
    "try:\n",
    "    with open(file_path, 'r') as my_file:\n",
    "        print(my_file.readlines())\n",
    "    my_file.close()\n",
    "except IOError:\n",
    "    print(\"You entered an invalid file path \")"
   ]
  },
  {
   "cell_type": "markdown",
   "id": "73a59596",
   "metadata": {},
   "source": [
    "# Activity 2.1.7: default_file_path"
   ]
  },
  {
   "cell_type": "code",
   "execution_count": 68,
   "id": "b030c788",
   "metadata": {},
   "outputs": [
    {
     "name": "stdout",
     "output_type": "stream",
     "text": [
      "Please enter your file path: \n",
      "['No one has ever become poor by giving. [Anne Frank]\\n', 'What’s in a name? A rose by any other name would smell as sweet. [Shakespeare]\\n', 'Let the beauty of what you love be what you do. [Rumi]\\n', 'The time is always right to do what is right. [Martin Luther King, Jr.]\\n', 'Few are those who see with their own eyes and feel with their own hearts. [Einstein]\\n', 'In a gentle way, you can shake the world. [Gandhi]\\n', 'Feet, what do I need you for when I have wings to fly? [Frida Kahlo]\\n', 'What is done cannot be undone, but one can prevent it happening again. [Anne Frank]\\n', 'Wherever you are, and whatever you do, be in love. [Rumi]\\n', 'I paint flowers so they will not die. [Frida Kahlo]\\n', 'Only from the heart can you touch the sky. [Rumi]\\n', 'I hear and I forget. I see and I remember. I do and I understand. [Confucius]\\n']\n"
     ]
    }
   ],
   "source": [
    "my_defualt_file_path = \"quote.txt\"\n",
    "user_file_path = input(\"Please enter your file path: \")\n",
    "\n",
    "try:\n",
    "    if user_file_path == \"\":\n",
    "        with open(my_defualt_file_path, 'r') as my_file:\n",
    "            print(my_file.readlines())\n",
    "        my_file.close()\n",
    "    else:\n",
    "        with open(user_file_path, 'r') as my_file:\n",
    "            print(my_file.readlines())\n",
    "        my_file.close()\n",
    "        \n",
    "except IOError:\n",
    "    print(\"Please enter a valid file name\")"
   ]
  },
  {
   "cell_type": "markdown",
   "id": "a5f8b657",
   "metadata": {},
   "source": [
    "# Activity 2.1.8: strip_lines"
   ]
  },
  {
   "cell_type": "code",
   "execution_count": 67,
   "id": "73b6b6a4",
   "metadata": {},
   "outputs": [
    {
     "name": "stdout",
     "output_type": "stream",
     "text": [
      "Please enter your file path \n",
      "No one has ever become poor by giving. [Anne Frank]\n",
      "What’s in a name? A rose by any other name would smell as sweet. [Shakespeare]\n",
      "Let the beauty of what you love be what you do. [Rumi]\n",
      "The time is always right to do what is right. [Martin Luther King, Jr.]\n",
      "Few are those who see with their own eyes and feel with their own hearts. [Einstein]\n",
      "In a gentle way, you can shake the world. [Gandhi]\n",
      "Feet, what do I need you for when I have wings to fly? [Frida Kahlo]\n",
      "What is done cannot be undone, but one can prevent it happening again. [Anne Frank]\n",
      "Wherever you are, and whatever you do, be in love. [Rumi]\n",
      "I paint flowers so they will not die. [Frida Kahlo]\n",
      "Only from the heart can you touch the sky. [Rumi]\n",
      "I hear and I forget. I see and I remember. I do and I understand. [Confucius]\n"
     ]
    }
   ],
   "source": [
    "file_path = input(\"Please enter your file path \") or  \"quote.txt\"\n",
    "\n",
    "try:\n",
    "    with open(file_path, 'r') as my_file:\n",
    "        for lines in  my_file.readlines():\n",
    "            print(lines.strip())\n",
    "    my_file.close()\n",
    "except IOError:\n",
    "    print(\"Please enter a valid file name and  proceed\")\n",
    "        "
   ]
  },
  {
   "cell_type": "code",
   "execution_count": null,
   "id": "2f335f37",
   "metadata": {},
   "outputs": [],
   "source": []
  },
  {
   "cell_type": "code",
   "execution_count": null,
   "id": "1dc97ce9",
   "metadata": {},
   "outputs": [],
   "source": []
  }
 ],
 "metadata": {
  "kernelspec": {
   "display_name": "Python 3 (ipykernel)",
   "language": "python",
   "name": "python3"
  },
  "language_info": {
   "codemirror_mode": {
    "name": "ipython",
    "version": 3
   },
   "file_extension": ".py",
   "mimetype": "text/x-python",
   "name": "python",
   "nbconvert_exporter": "python",
   "pygments_lexer": "ipython3",
   "version": "3.9.0"
  }
 },
 "nbformat": 4,
 "nbformat_minor": 5
}
