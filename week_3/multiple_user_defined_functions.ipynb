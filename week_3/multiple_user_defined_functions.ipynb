{
 "cells": [
  {
   "cell_type": "markdown",
   "metadata": {},
   "source": [
    "# Activity 2.3.1: multiple_functions"
   ]
  },
  {
   "cell_type": "code",
   "execution_count": 11,
   "metadata": {},
   "outputs": [
    {
     "name": "stdout",
     "output_type": "stream",
     "text": [
      "||\n",
      "|||\n"
     ]
    }
   ],
   "source": [
    "def display_ladder(steps = int(input(\"How many steps:\"))):\n",
    "    print('|' * steps)\n",
    "\n",
    "def create_ladder():\n",
    "    number_of_steps = int(input(\"Enter the number of steps\"))\n",
    "    display_ladder(number_of_steps)\n",
    "\n",
    "display_ladder()\n",
    "create_ladder()"
   ]
  },
  {
   "cell_type": "markdown",
   "metadata": {},
   "source": [
    "# Activity 2.3.2: return_values"
   ]
  },
  {
   "cell_type": "code",
   "execution_count": 21,
   "metadata": {},
   "outputs": [
    {
     "data": {
      "text/plain": [
       "'The average of Beep and Bop Weight is: 10.0'"
      ]
     },
     "execution_count": 21,
     "metadata": {},
     "output_type": "execute_result"
    }
   ],
   "source": [
    "def sum_weights(number1, number2):\n",
    "    return number1 + number2\n",
    "\n",
    "def calc_avg_weight(bot_number1, bot_number2):\n",
    "   return sum_weights(bot_number1, bot_number2)/ 2\n",
    "\n",
    "\n",
    "def run():\n",
    "    weight1= int(input(\"Enter the Weight of Beep: \"))\n",
    "    weight2 = int(input(\"Enter the Weight of Bop: \"))\n",
    "\n",
    "    compute = input(\"What mathematical operation would you like to compute ?: \")\n",
    "    if compute == 'sum':\n",
    "        return \"The sum of the Beep and Bop Weight is: {}\".format(sum_weights(weight1,weight2))\n",
    "    elif compute == \"average\":\n",
    "        return \"The average of Beep and Bop Weight is: {}\".format(calc_avg_weight(weight1,weight2))\n",
    "    else:\n",
    "        print(\"Please enter a valid computation operation\")\n",
    "\n",
    "run()\n"
   ]
  },
  {
   "cell_type": "markdown",
   "metadata": {},
   "source": [
    "# Activity 2.3.3: function_calls"
   ]
  },
  {
   "cell_type": "code",
   "execution_count": null,
   "metadata": {},
   "outputs": [],
   "source": []
  },
  {
   "cell_type": "code",
   "execution_count": null,
   "metadata": {},
   "outputs": [],
   "source": []
  }
 ],
 "metadata": {
  "kernelspec": {
   "display_name": "Python 3.9.0 ('MLseries': venv)",
   "language": "python",
   "name": "python3"
  },
  "language_info": {
   "codemirror_mode": {
    "name": "ipython",
    "version": 3
   },
   "file_extension": ".py",
   "mimetype": "text/x-python",
   "name": "python",
   "nbconvert_exporter": "python",
   "pygments_lexer": "ipython3",
   "version": "3.9.0"
  },
  "orig_nbformat": 4,
  "vscode": {
   "interpreter": {
    "hash": "3f8122ea538cd25ab16c16404576ed6f8cdf54d3516a53da4285bbcfeaea58c4"
   }
  }
 },
 "nbformat": 4,
 "nbformat_minor": 2
}
