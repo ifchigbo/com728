{
 "cells": [
  {
   "cell_type": "code",
   "execution_count": 1,
   "id": "b9af191a",
   "metadata": {},
   "outputs": [
    {
     "name": "stdout",
     "output_type": "stream",
     "text": [
      "welcome to python\n"
     ]
    }
   ],
   "source": [
    "print('welcome to python')"
   ]
  },
  {
   "cell_type": "markdown",
   "id": "2f12a292",
   "metadata": {},
   "source": [
    "\"Activity 2.1.1: simple_message"
   ]
  },
  {
   "cell_type": "code",
   "execution_count": 2,
   "id": "c00d3389",
   "metadata": {},
   "outputs": [
    {
     "name": "stdout",
     "output_type": "stream",
     "text": [
      "system failure imminent\n"
     ]
    }
   ],
   "source": [
    "#display message to standard output\n",
    "print(\"system failure imminent\")"
   ]
  },
  {
   "cell_type": "markdown",
   "id": "c36dba6b",
   "metadata": {},
   "source": [
    "\"Multiple Messages\""
   ]
  },
  {
   "cell_type": "code",
   "execution_count": 4,
   "id": "3020dadc",
   "metadata": {},
   "outputs": [
    {
     "name": "stdout",
     "output_type": "stream",
     "text": [
      "Message One\n",
      "Message Two\n"
     ]
    }
   ],
   "source": [
    "print(\"Message One\")\n",
    "print(\"Message Two\")"
   ]
  },
  {
   "cell_type": "code",
   "execution_count": 5,
   "id": "2d9dbe62",
   "metadata": {},
   "outputs": [
    {
     "name": "stdout",
     "output_type": "stream",
     "text": [
      "System Failure Imminent\n",
      "System Rebooting Sequence initialized ......... \n"
     ]
    }
   ],
   "source": [
    "print(\"System Failure Imminent\")\n",
    "print(\"System Rebooting Sequence initialized ......... \")"
   ]
  },
  {
   "cell_type": "code",
   "execution_count": 6,
   "id": "043eab17",
   "metadata": {},
   "outputs": [
    {
     "name": "stdout",
     "output_type": "stream",
     "text": [
      "\n",
      " Display a new line\n"
     ]
    }
   ],
   "source": [
    "print(\"\\n Display a new line\")"
   ]
  },
  {
   "cell_type": "code",
   "execution_count": 7,
   "id": "195b96d6",
   "metadata": {},
   "outputs": [
    {
     "name": "stdout",
     "output_type": "stream",
     "text": [
      "\n",
      "\n"
     ]
    }
   ],
   "source": [
    "print(\"\\n\")"
   ]
  },
  {
   "cell_type": "code",
   "execution_count": 32,
   "id": "bb6570a2",
   "metadata": {},
   "outputs": [
    {
     "name": "stdout",
     "output_type": "stream",
     "text": [
      "welcome to python\n",
      "\t Hello Friends\n",
      "welcome to my first code\n",
      "\\ \n",
      "\t'I am Beep !'\n"
     ]
    }
   ],
   "source": [
    "print(\"welcome to python\")\n",
    "print(\"\\t Hello Friends\")\n",
    "print(\"welcome to my first code\")\n",
    "print(\"\\\\ \")\n",
    "print(\"\\t'I am Beep !'\")"
   ]
  },
  {
   "cell_type": "code",
   "execution_count": 33,
   "id": "4eec9ee5",
   "metadata": {},
   "outputs": [
    {
     "name": "stdout",
     "output_type": "stream",
     "text": [
      "########\n",
      "#      #\n",
      "#      #\n",
      "########\n"
     ]
    }
   ],
   "source": [
    "print(\"########\")\n",
    "print(\"#      #\")\n",
    "print(\"#      #\")\n",
    "print(\"########\")"
   ]
  },
  {
   "cell_type": "code",
   "execution_count": null,
   "id": "05208551",
   "metadata": {},
   "outputs": [],
   "source": [
    "print(\"#########\")\n",
    "print(\"# 0   0 #\")\n",
    "print(\"#   0   #\")\n",
    "print(\"#########\")\n",
    "print(\"    #    \")\n",
    "print(\"0--|  |--0\")\n",
    "print(\"\")"
   ]
  }
 ],
 "metadata": {
  "kernelspec": {
   "display_name": "Python 3 (ipykernel)",
   "language": "python",
   "name": "python3"
  },
  "language_info": {
   "codemirror_mode": {
    "name": "ipython",
    "version": 3
   },
   "file_extension": ".py",
   "mimetype": "text/x-python",
   "name": "python",
   "nbconvert_exporter": "python",
   "pygments_lexer": "ipython3",
   "version": "3.9.0"
  }
 },
 "nbformat": 4,
 "nbformat_minor": 5
}
