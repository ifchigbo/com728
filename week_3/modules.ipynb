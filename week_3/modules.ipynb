{
 "cells": [
  {
   "cell_type": "markdown",
   "metadata": {},
   "source": []
  },
  {
   "cell_type": "markdown",
   "metadata": {},
   "source": [
    "# Activity 2.4.1: guess_the_number"
   ]
  },
  {
   "cell_type": "code",
   "execution_count": 5,
   "metadata": {},
   "outputs": [
    {
     "name": "stdout",
     "output_type": "stream",
     "text": [
      "I am thinking of a number between 2 and 4\n",
      "Your value is too high. \n",
      "Your value is too low. \n",
      "Congratulations! You guessed the right  number!\n"
     ]
    }
   ],
   "source": [
    "import random\n",
    "\n",
    "def play_guess_game():\n",
    "    condition = True\n",
    "    number = int(input(\"Please enter the minimum value: \"))\n",
    "    number2 = int(input(\"Please enter the maximum value: \"))\n",
    "    get_number = random.randrange(number,number2)\n",
    "\n",
    "    print(\"I am thinking of a number between {} and {}\".format(number, number2))\n",
    "\n",
    "    while condition:\n",
    "        guess_number = int(input(\"Can you take a guess of the number ?: \"))\n",
    "        # I will use the code below to test the functionality of my source code\n",
    "        #print(\"Your guess is {} and the actual number is  {}\".format(guess_number, get_number))\n",
    "        if guess_number  == get_number:\n",
    "            print(\"Congratulations! You guessed the right  number!\")\n",
    "            print(\"The right number is {}\".format(guess_number))\n",
    "            condition = False\n",
    "            break\n",
    "        elif guess_number > get_number: \n",
    "            print(\"Your value is too high. \")\n",
    "        elif guess_number < get_number:\n",
    "            print(\"Your value is too low. \")\n",
    "        else:\n",
    "            print(\"Your guess is wrong, please try again\")\n",
    "\n",
    "play_guess_game()\n"
   ]
  },
  {
   "cell_type": "code",
   "execution_count": 5,
   "metadata": {},
   "outputs": [
    {
     "data": {
      "text/plain": [
       "2"
      ]
     },
     "execution_count": 5,
     "metadata": {},
     "output_type": "execute_result"
    }
   ],
   "source": [
    "random.randrange(2,1)"
   ]
  },
  {
   "cell_type": "code",
   "execution_count": null,
   "metadata": {},
   "outputs": [],
   "source": []
  }
 ],
 "metadata": {
  "kernelspec": {
   "display_name": "Python 3.9.0 ('MLseries': venv)",
   "language": "python",
   "name": "python3"
  },
  "language_info": {
   "codemirror_mode": {
    "name": "ipython",
    "version": 3
   },
   "file_extension": ".py",
   "mimetype": "text/x-python",
   "name": "python",
   "nbconvert_exporter": "python",
   "pygments_lexer": "ipython3",
   "version": "3.9.0"
  },
  "orig_nbformat": 4,
  "vscode": {
   "interpreter": {
    "hash": "355db077f91938a2da64fe784c91fafd2ca6eee95c2d8624151e9ace354f9883"
   }
  }
 },
 "nbformat": 4,
 "nbformat_minor": 2
}
