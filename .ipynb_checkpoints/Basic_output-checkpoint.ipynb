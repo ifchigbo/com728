{
 "cells": [
  {
   "cell_type": "markdown",
   "id": "d535fe1a",
   "metadata": {},
   "source": [
    "# Activity 2.1.1:simple_message"
   ]
  },
  {
   "cell_type": "code",
   "execution_count": 79,
   "id": "cae6a2b2",
   "metadata": {},
   "outputs": [
    {
     "name": "stdout",
     "output_type": "stream",
     "text": [
      "System Failure Imminent!\n"
     ]
    }
   ],
   "source": [
    "\"Display message to the standard output\"\n",
    "print(\"System Failure Imminent!\")"
   ]
  },
  {
   "cell_type": "markdown",
   "id": "25018b1f",
   "metadata": {},
   "source": [
    "# Activity 2.1.2: multiline_message"
   ]
  },
  {
   "cell_type": "code",
   "execution_count": 80,
   "id": "fac252db",
   "metadata": {},
   "outputs": [
    {
     "name": "stdout",
     "output_type": "stream",
     "text": [
      "System Failure Imminent !\n",
      "System reboot has been initiated...\n",
      "\n",
      "\n",
      "...rebooting sensory system\n",
      "...rebooting output motors\n",
      "...rebooting hover engine\n",
      "\n",
      "\n",
      "System online.\n"
     ]
    }
   ],
   "source": [
    "#Display message to the standard output with amended code \n",
    "print(\"System Failure Imminent !\")\n",
    "print(\"System reboot has been initiated...\")\n",
    "print(\"\")\n",
    "print(\"\")\n",
    "print(\"...rebooting sensory system\")\n",
    "print(\"...rebooting output motors\")\n",
    "print(\"...rebooting hover engine\")\n",
    "print(\"\")\n",
    "print(\"\")\n",
    "print(\"System online.\")"
   ]
  },
  {
   "cell_type": "markdown",
   "id": "1954a2e1",
   "metadata": {},
   "source": [
    "# Activity 2.1.3: escape_characters"
   ]
  },
  {
   "cell_type": "code",
   "execution_count": 81,
   "id": "a853c85b",
   "metadata": {},
   "outputs": [
    {
     "name": "stdout",
     "output_type": "stream",
     "text": [
      "\n",
      " Displays a new line\n",
      "\t Displays a tab space\n",
      "\\ Displays a back slash\n",
      "\" Displays a double quote\n",
      "' Displays a single quote\n"
     ]
    }
   ],
   "source": [
    "#Display escape characters\n",
    "print(\"\\n Displays a new line\")\n",
    "print(\"\\t Displays a tab space\")\n",
    "print(\"\\\\ Displays a back slash\")\n",
    "print(\"\\\" Displays a double quote\")\n",
    "print(\"\\' Displays a single quote\")"
   ]
  },
  {
   "cell_type": "markdown",
   "id": "cc1d92a6",
   "metadata": {},
   "source": [
    "# Activity  2.1.3:escape_characters"
   ]
  },
  {
   "cell_type": "code",
   "execution_count": 82,
   "id": "a2261b05",
   "metadata": {},
   "outputs": [
    {
     "name": "stdout",
     "output_type": "stream",
     "text": [
      "\n",
      "\n",
      "\t \"I am Beep!\"\n",
      "\n",
      "\n"
     ]
    }
   ],
   "source": [
    "#Displaying escape characters with an extended function\n",
    "print(\"\\n\")\n",
    "print('\\t \"I am Beep!\"')\n",
    "print(\"\\n\")"
   ]
  },
  {
   "cell_type": "markdown",
   "id": "d78f9cb5",
   "metadata": {},
   "source": [
    "# Activity  2.1.4 Ascii Art"
   ]
  },
  {
   "cell_type": "code",
   "execution_count": 83,
   "id": "1b74734c",
   "metadata": {},
   "outputs": [
    {
     "name": "stdout",
     "output_type": "stream",
     "text": [
      "##########\n",
      "#        #\n",
      "#        #\n",
      "##########\n"
     ]
    }
   ],
   "source": [
    "#Display escape characters\n",
    "print(\"##########\")\n",
    "print(\"#        #\")\n",
    "print(\"#        #\")\n",
    "print(\"##########\")"
   ]
  },
  {
   "cell_type": "markdown",
   "id": "02ef8625",
   "metadata": {},
   "source": [
    "# Activity 2.1.5 ascii Art \n",
    "<b> ascii art graphic of our robot, Beep !\n"
   ]
  },
  {
   "cell_type": "code",
   "execution_count": 84,
   "id": "7cb7ad71",
   "metadata": {},
   "outputs": [
    {
     "name": "stdout",
     "output_type": "stream",
     "text": [
      "    ###\n",
      "  #    # \n",
      " # 0  0 #\n",
      " #  --  #\n",
      "   ####\n",
      "# |---- | #\n",
      "# |     | #\n",
      "@(|     |)@\n",
      "   -###-  \n",
      "     ^     \n",
      "   @   @\n",
      "  @      @\n",
      " [_]    [_]\n"
     ]
    }
   ],
   "source": [
    "#Display ascii  art of  our Robot \n",
    "#The output below displays a prototype of BEEP! our Robot\n",
    "\n",
    "print(\"    ###\")\n",
    "print(\"  #    # \")\n",
    "print(\" # 0  0 #\")\n",
    "print(\" #  --  #\")\n",
    "print(\"   ####\")\n",
    "print(\"# |---- | #\")\n",
    "print(\"# |     | #\")\n",
    "print(\"@(|     |)@\")\n",
    "print(\"   -###-  \")\n",
    "print(\"     ^     \")\n",
    "print(\"   @   @\")\n",
    "print(\"  @      @\")\n",
    "print(\" [_]    [_]\")"
   ]
  },
  {
   "cell_type": "code",
   "execution_count": null,
   "id": "e9e2ecbb",
   "metadata": {},
   "outputs": [],
   "source": []
  }
 ],
 "metadata": {
  "kernelspec": {
   "display_name": "Python 3 (ipykernel)",
   "language": "python",
   "name": "python3"
  },
  "language_info": {
   "codemirror_mode": {
    "name": "ipython",
    "version": 3
   },
   "file_extension": ".py",
   "mimetype": "text/x-python",
   "name": "python",
   "nbconvert_exporter": "python",
   "pygments_lexer": "ipython3",
   "version": "3.9.0"
  }
 },
 "nbformat": 4,
 "nbformat_minor": 5
}
