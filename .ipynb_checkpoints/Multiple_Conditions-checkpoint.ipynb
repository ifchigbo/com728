{
 "cells": [
  {
   "cell_type": "markdown",
   "id": "a639d970",
   "metadata": {},
   "source": [
    "# Activity 2.2.1: Or_operator"
   ]
  },
  {
   "cell_type": "code",
   "execution_count": 6,
   "id": "ba92b2f5",
   "metadata": {},
   "outputs": [
    {
     "name": "stdout",
     "output_type": "stream",
     "text": [
      "Please enter your preffered type of adventure:drive\n",
      "Not sure which route to take\n"
     ]
    }
   ],
   "source": [
    "adventure_type = input(\"Please enter your preffered type of adventure:\")\n",
    "print(\"\")\n",
    "#I will create a list to  hold adventure types below\n",
    "list_of_adventures = ['scary','short','safe','long']\n",
    "\n",
    "if adventure_type == list_of_adventures[0] or adventure_type == list_of_adventures[1]:\n",
    "    print(\"Entering the dark forest !\")\n",
    "elif adventure_type == list_of_adventures[2] or adventure_type == list_of_adventures[3]:\n",
    "    print(\"Taking the safe route !\")\n",
    "else:\n",
    "    print(\"Not sure which route to take\")"
   ]
  },
  {
   "cell_type": "markdown",
   "id": "beb29ccd",
   "metadata": {},
   "source": [
    "# Activity 2.2.2: and_operator"
   ]
  },
  {
   "cell_type": "code",
   "execution_count": 8,
   "id": "5985d2a0",
   "metadata": {},
   "outputs": [
    {
     "name": "stdout",
     "output_type": "stream",
     "text": [
      "What did i hear ?: grrr\n",
      "\n",
      "What did i see ?: two red eyes\n",
      "\n",
      "There is a scary creature. I should get out of here !\n"
     ]
    }
   ],
   "source": [
    "input_hear = input(\"What did i hear ?: \")\n",
    "print(\"\")\n",
    "input_see = input(\"What did i see ?: \")\n",
    "print(\"\")\n",
    "\n",
    "responses = ['grrr','two red eyes']\n",
    "\n",
    "if input_hear == responses[0] and  input_see == responses[1]:\n",
    "    print(\"There is a scary creature. I should get out of here !\")\n",
    "else:\n",
    "    print(\" I am a little  scared but i will continue.\")\n",
    "    "
   ]
  },
  {
   "cell_type": "code",
   "execution_count": null,
   "id": "b25ab68b",
   "metadata": {},
   "outputs": [],
   "source": []
  }
 ],
 "metadata": {
  "kernelspec": {
   "display_name": "Python 3 (ipykernel)",
   "language": "python",
   "name": "python3"
  },
  "language_info": {
   "codemirror_mode": {
    "name": "ipython",
    "version": 3
   },
   "file_extension": ".py",
   "mimetype": "text/x-python",
   "name": "python",
   "nbconvert_exporter": "python",
   "pygments_lexer": "ipython3",
   "version": "3.9.0"
  }
 },
 "nbformat": 4,
 "nbformat_minor": 5
}
