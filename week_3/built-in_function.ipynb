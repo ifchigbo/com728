{
 "cells": [
  {
   "cell_type": "markdown",
   "metadata": {},
   "source": [
    "# Activity 2.2.1: Ascii_Code"
   ]
  },
  {
   "cell_type": "code",
   "execution_count": 3,
   "metadata": {},
   "outputs": [
    {
     "name": "stdout",
     "output_type": "stream",
     "text": [
      "Program Started!\n",
      "The ascii code fo letter 1 is 49\n",
      "\n",
      "Program Ended !\n"
     ]
    }
   ],
   "source": [
    "# Initiating the program\n",
    "print(\"Program Started!\")\n",
    "#input the character to convert to its ascii format\n",
    "ascii_letter = input(\"Please enter a standard character: \")\n",
    "\n",
    "if len(ascii_letter) == 1:\n",
    "    print(\"The ascii code fo letter {} is {}\".format(ascii_letter, ord(ascii_letter)))\n",
    "else:\n",
    "    print(\"A single character was expected.\")\n",
    "print(\"\")\n",
    "print(\"Program Ended !\")"
   ]
  },
  {
   "cell_type": "markdown",
   "metadata": {},
   "source": [
    "# Activity 2.2.2:ascii_character"
   ]
  },
  {
   "cell_type": "code",
   "execution_count": 5,
   "metadata": {},
   "outputs": [
    {
     "name": "stdout",
     "output_type": "stream",
     "text": [
      "Program Started !\n",
      "Please enter an ascii code: \n",
      "The character represented by the ASCII code 35 is #\n",
      "Program Ended !\n"
     ]
    }
   ],
   "source": [
    "#initiating the program \n",
    "print(\"Program Started !\")\n",
    "print(\"Please enter an ascii code: \")\n",
    "ascii_code = int(input())\n",
    "\n",
    "# use a for loop to run through the range of 32 to  26\n",
    "for code in range(32, 127):\n",
    "    if ascii_code == code:\n",
    "        print(\"The character represented by the ASCII code {} is {}\".format(ascii_code,chr(ascii_code)))\n",
    "        #Using a break statement to exit the loop once my condition in the if statement is TRUE\n",
    "        break\n",
    "    elif ascii_code not in range(32,126):\n",
    "        print(\"Error ! the number {} is out of range\".format(ascii_code))\n",
    "        #Using a break statement to exit the loop once my condition in the ELSE IF statement is TRUE \n",
    "        break\n",
    "\n",
    "print(\"Program Ended !\")"
   ]
  },
  {
   "cell_type": "code",
   "execution_count": null,
   "metadata": {},
   "outputs": [],
   "source": []
  },
  {
   "cell_type": "code",
   "execution_count": null,
   "metadata": {},
   "outputs": [],
   "source": []
  }
 ],
 "metadata": {
  "kernelspec": {
   "display_name": "Python 3.9.0 ('MLseries': venv)",
   "language": "python",
   "name": "python3"
  },
  "language_info": {
   "codemirror_mode": {
    "name": "ipython",
    "version": 3
   },
   "file_extension": ".py",
   "mimetype": "text/x-python",
   "name": "python",
   "nbconvert_exporter": "python",
   "pygments_lexer": "ipython3",
   "version": "3.9.0"
  },
  "orig_nbformat": 4,
  "vscode": {
   "interpreter": {
    "hash": "355db077f91938a2da64fe784c91fafd2ca6eee95c2d8624151e9ace354f9883"
   }
  }
 },
 "nbformat": 4,
 "nbformat_minor": 2
}
