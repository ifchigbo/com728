{
 "cells": [
  {
   "cell_type": "markdown",
   "id": "daa95eeb",
   "metadata": {},
   "source": [
    "# Activity 2.2.1: user_input"
   ]
  },
  {
   "cell_type": "code",
   "execution_count": 37,
   "id": "eb8ac655",
   "metadata": {},
   "outputs": [
    {
     "name": "stdout",
     "output_type": "stream",
     "text": [
      "What is your name human?\n",
      "Victor\n",
      "It is nice to meet you human Victor\n"
     ]
    }
   ],
   "source": [
    "#Ask user to enter their name\n",
    "print(\"What is your name human?\")\n",
    "name = input()\n",
    "print(f\"It is nice to meet you human {name}\")"
   ]
  },
  {
   "cell_type": "code",
   "execution_count": 38,
   "id": "3de14758",
   "metadata": {},
   "outputs": [
    {
     "name": "stdout",
     "output_type": "stream",
     "text": [
      "What is your name human? Victor\n",
      "\n",
      "it is nice to meet you Victor \n"
     ]
    }
   ],
   "source": [
    "#Read in user's name\n",
    "#This is the amended  version of the code above \n",
    "name = input(\"What is your name human? \")\n",
    "print()\n",
    "print(\"it is nice to meet you {} \".format(name))"
   ]
  },
  {
   "cell_type": "markdown",
   "id": "4e3c5a7e",
   "metadata": {},
   "source": [
    "# Activity 2.2.2: Data Types"
   ]
  },
  {
   "cell_type": "code",
   "execution_count": 42,
   "id": "be2ff173",
   "metadata": {},
   "outputs": [
    {
     "name": "stdout",
     "output_type": "stream",
     "text": [
      "\n",
      " What is your name ? Victor\n",
      "\n",
      " How  old are you (please enter your age in  years)? 39\n",
      "\n",
      " Please enter your weight (enter  weight in kilograms): 88\n",
      "\n",
      " Please enter your height (enter height in meters: )1.8\n",
      "\n",
      " Victor, you are 39 old and your bmi is 27.16\n"
     ]
    }
   ],
   "source": [
    "#This program calulates the Body Mass Index of an individual\n",
    "name = input(\"\\n What is your name ? \")\n",
    "age = input(\"\\n How  old are you (please enter your age in  years)? \")\n",
    "weight = input(\"\\n Please enter your weight (enter  weight in kilograms): \")\n",
    "height = input(\"\\n Please enter your height (enter height in meters: )\")\n",
    "\n",
    "#In calculating my BMI, i converted the weight and height variables to float\n",
    "\n",
    "bmi = float(weight)/ float(height)**2\n",
    "\n",
    "print(\"\\n {}, you are {} old and your bmi is {:.2f}\".format(name,age,bmi))"
   ]
  },
  {
   "cell_type": "markdown",
   "id": "1509d8a6",
   "metadata": {},
   "source": [
    "# Activity 2.2.3: String Operator"
   ]
  },
  {
   "cell_type": "code",
   "execution_count": 43,
   "id": "7b4f4543",
   "metadata": {},
   "outputs": [
    {
     "name": "stdout",
     "output_type": "stream",
     "text": [
      "Please enter the number of lives45\n",
      "Please enter the number of Energy34\n",
      "Please enter the number of shields12\n",
      "\n",
      "The Energy level has been set below; \n",
      "\n",
      "Live: ✱✱✱✱✱✱✱✱✱✱✱✱✱✱✱✱✱✱✱✱✱✱✱✱✱✱✱✱✱✱✱✱✱✱✱✱✱✱✱✱✱✱✱✱✱\n",
      "Energey: ❎❎❎❎❎❎❎❎❎❎❎❎❎❎❎❎❎❎❎❎❎❎❎❎❎❎❎❎❎❎❎❎❎❎\n",
      "Shield: ✔✔✔✔✔✔✔✔✔✔✔✔\n"
     ]
    }
   ],
   "source": [
    "Live = int(input(\"Please enter the number of lives\"))\n",
    "Energy = int(input(\"Please enter the number of Energy\"))\n",
    "Shield = int(input(\"Please enter the number of shields\"))\n",
    "\n",
    "print(\"\")\n",
    "\n",
    "print(\"The Energy level has been set below; \")\n",
    "\n",
    "print(\"\")\n",
    "\n",
    "print(\"Live:\", \"\\u2731\" * Live)\n",
    "print(\"Energey:\", \"\\u274E\" * Energy)\n",
    "print(\"Shield:\", \"\\u2714\" * Shield)\n",
    "\n"
   ]
  },
  {
   "cell_type": "code",
   "execution_count": null,
   "id": "90929460",
   "metadata": {},
   "outputs": [],
   "source": []
  },
  {
   "cell_type": "code",
   "execution_count": null,
   "id": "b9b0442d",
   "metadata": {},
   "outputs": [],
   "source": []
  }
 ],
 "metadata": {
  "kernelspec": {
   "display_name": "Python 3 (ipykernel)",
   "language": "python",
   "name": "python3"
  },
  "language_info": {
   "codemirror_mode": {
    "name": "ipython",
    "version": 3
   },
   "file_extension": ".py",
   "mimetype": "text/x-python",
   "name": "python",
   "nbconvert_exporter": "python",
   "pygments_lexer": "ipython3",
   "version": "3.9.0"
  }
 },
 "nbformat": 4,
 "nbformat_minor": 5
}
