{
 "cells": [
  {
   "cell_type": "code",
   "execution_count": 1,
   "id": "eba8ac45",
   "metadata": {},
   "outputs": [
    {
     "name": "stdout",
     "output_type": "stream",
     "text": [
      "welcome to python\n"
     ]
    }
   ],
   "source": [
    "print('welcome to python')"
   ]
  },
  {
   "cell_type": "markdown",
   "id": "9fc890a7",
   "metadata": {},
   "source": [
    "\"Activity 2.1.1: simple_message"
   ]
  },
  {
   "cell_type": "code",
   "execution_count": 2,
   "id": "fa02bf04",
   "metadata": {},
   "outputs": [
    {
     "name": "stdout",
     "output_type": "stream",
     "text": [
      "system failure imminent\n"
     ]
    }
   ],
   "source": [
    "#display message to standard output\n",
    "print(\"system failure imminent\")"
   ]
  },
  {
   "cell_type": "markdown",
   "id": "0338c16b",
   "metadata": {},
   "source": [
    "\"Multiple Messages\""
   ]
  },
  {
   "cell_type": "code",
   "execution_count": 4,
   "id": "63fbfbfe",
   "metadata": {},
   "outputs": [
    {
     "name": "stdout",
     "output_type": "stream",
     "text": [
      "Message One\n",
      "Message Two\n"
     ]
    }
   ],
   "source": [
    "print(\"Message One\")\n",
    "print(\"Message Two\")"
   ]
  },
  {
   "cell_type": "code",
   "execution_count": 5,
   "id": "d0a433d1",
   "metadata": {},
   "outputs": [
    {
     "name": "stdout",
     "output_type": "stream",
     "text": [
      "System Failure Imminent\n",
      "System Rebooting Sequence initialized ......... \n"
     ]
    }
   ],
   "source": [
    "print(\"System Failure Imminent\")\n",
    "print(\"System Rebooting Sequence initialized ......... \")"
   ]
  },
  {
   "cell_type": "code",
   "execution_count": 6,
   "id": "e963fd7d",
   "metadata": {},
   "outputs": [
    {
     "name": "stdout",
     "output_type": "stream",
     "text": [
      "\n",
      " Display a new line\n"
     ]
    }
   ],
   "source": [
    "print(\"\\n Display a new line\")"
   ]
  },
  {
   "cell_type": "code",
   "execution_count": 7,
   "id": "b8e52c0e",
   "metadata": {},
   "outputs": [
    {
     "name": "stdout",
     "output_type": "stream",
     "text": [
      "\n",
      "\n"
     ]
    }
   ],
   "source": [
    "print(\"\\n\")"
   ]
  },
  {
   "cell_type": "code",
   "execution_count": 32,
   "id": "0036f95a",
   "metadata": {},
   "outputs": [
    {
     "name": "stdout",
     "output_type": "stream",
     "text": [
      "welcome to python\n",
      "\t Hello Friends\n",
      "welcome to my first code\n",
      "\\ \n",
      "\t'I am Beep !'\n"
     ]
    }
   ],
   "source": [
    "print(\"welcome to python\")\n",
    "print(\"\\t Hello Friends\")\n",
    "print(\"welcome to my first code\")\n",
    "print(\"\\\\ \")\n",
    "print(\"\\t'I am Beep !'\")"
   ]
  },
  {
   "cell_type": "code",
   "execution_count": null,
   "id": "fb1d37a0",
   "metadata": {},
   "outputs": [],
   "source": []
  }
 ],
 "metadata": {
  "kernelspec": {
   "display_name": "Python 3 (ipykernel)",
   "language": "python",
   "name": "python3"
  },
  "language_info": {
   "codemirror_mode": {
    "name": "ipython",
    "version": 3
   },
   "file_extension": ".py",
   "mimetype": "text/x-python",
   "name": "python",
   "nbconvert_exporter": "python",
   "pygments_lexer": "ipython3",
   "version": "3.9.0"
  }
 },
 "nbformat": 4,
 "nbformat_minor": 5
}
