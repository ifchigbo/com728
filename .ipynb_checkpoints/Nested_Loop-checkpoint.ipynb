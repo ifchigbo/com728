{
 "cells": [
  {
   "cell_type": "code",
   "execution_count": 27,
   "id": "37a38250",
   "metadata": {},
   "outputs": [
    {
     "name": "stdout",
     "output_type": "stream",
     "text": [
      "How many rows should i have: 2\n",
      "\n",
      "How many columns should i have: 3\n",
      "\n",
      "Here i go:\n",
      "\n",
      "\t 😆\t 😆\t 😆\n",
      "\n",
      "\n",
      "\n",
      "\t 😆\t 😆\t 😆\n",
      "\n",
      "\n",
      "\n",
      "done\n"
     ]
    }
   ],
   "source": [
    "#get the number of rows\n",
    "rows = int(input(\"How many rows should i have: \"))\n",
    "print(\"\")\n",
    "\n",
    "#get the number of columns\n",
    "columns = int(input(\"How many columns should i have: \"))\n",
    "print(\"\")\n",
    "\n",
    "print(\"Here i go:\")\n",
    "print(\"\")\n",
    "for items in range(rows):\n",
    "    \n",
    "    #I am using unicode characters to  generate my emojis below\n",
    "    \n",
    "    print(\"\\t \\U0001F606\" * columns)\n",
    "    for lines in  range(columns):\n",
    "         print(\"\")\n",
    "        \n",
    "print(\"Done !\")\n",
    " "
   ]
  },
  {
   "cell_type": "code",
   "execution_count": null,
   "id": "12d8e5e8",
   "metadata": {},
   "outputs": [],
   "source": []
  }
 ],
 "metadata": {
  "kernelspec": {
   "display_name": "Python 3 (ipykernel)",
   "language": "python",
   "name": "python3"
  },
  "language_info": {
   "codemirror_mode": {
    "name": "ipython",
    "version": 3
   },
   "file_extension": ".py",
   "mimetype": "text/x-python",
   "name": "python",
   "nbconvert_exporter": "python",
   "pygments_lexer": "ipython3",
   "version": "3.9.0"
  }
 },
 "nbformat": 4,
 "nbformat_minor": 5
}
