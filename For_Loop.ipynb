{
 "cells": [
  {
   "cell_type": "markdown",
   "id": "6068b2a0",
   "metadata": {},
   "source": [
    "# Activity 2.2.1: count_down"
   ]
  },
  {
   "cell_type": "code",
   "execution_count": 24,
   "id": "74415fb1",
   "metadata": {},
   "outputs": [
    {
     "name": "stdout",
     "output_type": "stream",
     "text": [
      "Howfar are we from the cave ? :4\n",
      "\n",
      "4 steps remaining\n",
      "\n",
      "3 steps remaining\n",
      "\n",
      "2 steps remaining\n",
      "\n",
      "1 steps remaining\n",
      "\n",
      "We have reached the cave !\n"
     ]
    }
   ],
   "source": [
    "distance_to_cover = int(input(\"Howfar are we from the cave ? : \"))\n",
    "print(\"\")\n",
    "\n",
    "print(\"{} steps remaining\".format(distance_to_cover ))\n",
    "print(\"\")\n",
    "for counts in range(distance_to_cover):\n",
    "    \n",
    "    if counts != 0:\n",
    "        distance_to_cover -= 1\n",
    "        print(\"{} steps remaining\".format(distance_to_cover))\n",
    "        print(\"\")\n",
    "print(\"We have reached the cave !\")"
   ]
  },
  {
   "cell_type": "markdown",
   "id": "41430401",
   "metadata": {},
   "source": [
    "# Activity 2.2.2: range"
   ]
  },
  {
   "cell_type": "code",
   "execution_count": 37,
   "id": "acdeeddc",
   "metadata": {},
   "outputs": [
    {
     "name": "stdout",
     "output_type": "stream",
     "text": [
      "What is the brightness level ?: 6\n",
      "\n",
      "Adjusting brightness .....\n",
      "4\n",
      "2\n",
      "0\n"
     ]
    }
   ],
   "source": [
    "brightness_level = int(input(\"What is the brightness level ?: \"))\n",
    "count = brightness_level\n",
    "print(\"\")\n",
    "checker = 2\n",
    "\n",
    "print(\"Adjusting brightness .....\")\n",
    "\n",
    "while count != 0:\n",
    "    print(count - checker)\n",
    "    count -= 2\n",
    "    "
   ]
  },
  {
   "cell_type": "code",
   "execution_count": 51,
   "id": "4c9957d1",
   "metadata": {},
   "outputs": [
    {
     "name": "stdout",
     "output_type": "stream",
     "text": [
      "What is the brightness level ?: 6\n",
      "\n",
      "Beep's brightness:  ⌑⌑\n",
      "Bop's brightness:   ⌑⌑\n",
      "\n",
      "Beep's brightness:  ⌑⌑⌑⌑\n",
      "Bop's brightness:   ⌑⌑⌑⌑\n",
      "\n",
      "Beep's brightness:  ⌑⌑⌑⌑⌑⌑\n",
      "Bop's brightness:   ⌑⌑⌑⌑⌑⌑\n",
      "\n"
     ]
    }
   ],
   "source": [
    "brightness_level = int(input(\"What is the brightness level ?: \"))\n",
    "count = brightness_level\n",
    "print(\"\")\n",
    "\n",
    "for items in range(0,brightness_level,2):\n",
    "    brightness = items + 2\n",
    "    print(\"Beep's brightness: \" , brightness * \"\\u2311\")\n",
    "    print(\"Bop's brightness:  \" , brightness * \"\\u2311\")\n",
    "    print(\"\")"
   ]
  },
  {
   "cell_type": "markdown",
   "id": "5e76d60b",
   "metadata": {},
   "source": [
    "# Activity 2.2.3: characters"
   ]
  },
  {
   "cell_type": "code",
   "execution_count": 2,
   "id": "3d66f898",
   "metadata": {},
   "outputs": [
    {
     "name": "stdout",
     "output_type": "stream",
     "text": [
      "What strange character do you see ?\n",
      "index 0:  ⌒\n",
      "index 1:  ⌲\n",
      "index 2:  Ⅎ\n",
      "index 3:  ሱ\n",
      "index 4:  ∡\n"
     ]
    }
   ],
   "source": [
    "print(\"What strange character do you see ?\")\n",
    "chars = ['\\u2312','\\u2332','\\u2132','\\u1231','\\u2221']\n",
    "count = 0\n",
    "\n",
    "for items in chars:\n",
    "    print(\"index {}: \".format(count), items)\n",
    "    count +=1\n",
    "          "
   ]
  },
  {
   "cell_type": "code",
   "execution_count": 4,
   "id": "6b8563ab",
   "metadata": {},
   "outputs": [
    {
     "name": "stdout",
     "output_type": "stream",
     "text": [
      "Hello World \n"
     ]
    }
   ],
   "source": [
    "print(\"Hello World \")"
   ]
  },
  {
   "cell_type": "code",
   "execution_count": null,
   "id": "5e085287",
   "metadata": {},
   "outputs": [],
   "source": []
  }
 ],
 "metadata": {
  "kernelspec": {
   "display_name": "Python 3.9.0 ('MLseries': venv)",
   "language": "python",
   "name": "python3"
  },
  "language_info": {
   "codemirror_mode": {
    "name": "ipython",
    "version": 3
   },
   "file_extension": ".py",
   "mimetype": "text/x-python",
   "name": "python",
   "nbconvert_exporter": "python",
   "pygments_lexer": "ipython3",
   "version": "3.9.0"
  },
  "vscode": {
   "interpreter": {
    "hash": "3f8122ea538cd25ab16c16404576ed6f8cdf54d3516a53da4285bbcfeaea58c4"
   }
  }
 },
 "nbformat": 4,
 "nbformat_minor": 5
}
