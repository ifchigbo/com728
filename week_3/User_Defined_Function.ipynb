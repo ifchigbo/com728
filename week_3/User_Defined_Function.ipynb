{
 "cells": [
  {
   "cell_type": "markdown",
   "metadata": {},
   "source": [
    "# Activity 2.2.1: Simple_function"
   ]
  },
  {
   "cell_type": "code",
   "execution_count": 103,
   "metadata": {},
   "outputs": [
    {
     "name": "stdout",
     "output_type": "stream",
     "text": [
      "That was a loud BOOM\n"
     ]
    }
   ],
   "source": [
    "\n",
    "#define a  listen function  below\n",
    "def listen():\n",
    "     # get a word that represents the sound in the  cave\n",
    "    sound = input(\"Please enter word to represent a sound (e.g a string variable): \")\n",
    "\n",
    "    #validate the input variable to ensure it is a string and not alpha numeric \n",
    "    for items in sound:\n",
    "        #Input validation for sound\n",
    "        if items.isdigit():\n",
    "            print(\"Please Enter a Valid String Variable\")\n",
    "            break\n",
    "        else:\n",
    "            print(\"That was a loud {}\".format(sound))\n",
    "            break\n",
    "\n",
    "        \n",
    "    \n",
    "  \n",
    "listen()"
   ]
  },
  {
   "cell_type": "markdown",
   "metadata": {},
   "source": [
    "# Activity 2.2.2: function_with_nesting"
   ]
  },
  {
   "cell_type": "code",
   "execution_count": 114,
   "metadata": {},
   "outputs": [
    {
     "name": "stdout",
     "output_type": "stream",
     "text": [
      "It's time to run !\n"
     ]
    }
   ],
   "source": [
    "def identify():\n",
    "    #declare an  expected  response variable\n",
    "    expected_response = 'a large boulder'\n",
    "    response = input(\"Please enter what you see: \")\n",
    "\n",
    "    #condition to check the users response, considering the first character in the string may be in capital letter\n",
    "    if response == expected_response or response == expected_response.capitalize():\n",
    "        print(\"It's time to run !\")\n",
    "    else:\n",
    "        print(\"We will be fine.\")\n",
    "\n",
    "identify()"
   ]
  },
  {
   "cell_type": "markdown",
   "metadata": {},
   "source": [
    "# Activity 2.2.3: function_with_parameter"
   ]
  },
  {
   "cell_type": "code",
   "execution_count": 116,
   "metadata": {},
   "outputs": [
    {
     "name": "stdout",
     "output_type": "stream",
     "text": [
      "We cannot escape that way! The boulder is too big!\n",
      "We cannot escape that way! The boulder is moving too fast!\n",
      "That might just work! Let's go deeper!\n"
     ]
    }
   ],
   "source": [
    "def escape(plan):\n",
    "    if plan == \"jumping over\":\n",
    "        return(\"We cannot escape that way! The boulder is too big!\")\n",
    "    elif plan == \"running around\":\n",
    "        return(\"We cannot escape that way! The boulder is moving too fast!\")\n",
    "    elif plan == \"going deeper\":\n",
    "        return(\"That might just work! Let's go deeper!\")\n",
    "    else:\n",
    "        return(\"We cannot escape that way! The boulder is in the way!\")\n",
    "\n",
    "print(escape(\"jumping over\"))\n",
    "print(escape(\"running around\"))\n",
    "print(escape(\"going deeper\"))"
   ]
  },
  {
   "cell_type": "markdown",
   "metadata": {},
   "source": [
    "# Activity 2.2.4: function_with_loop"
   ]
  },
  {
   "cell_type": "code",
   "execution_count": 144,
   "metadata": {},
   "outputs": [
    {
     "name": "stdout",
     "output_type": "stream",
     "text": [
      "Crossed Step\n",
      "Crossed Step\n",
      "Crossed Step\n",
      "We must keep going! \n",
      "Crossed Step\n",
      "Crossed Step\n",
      "Crossed Step\n",
      "Crossed Step\n",
      "Crossed Step\n",
      "Crossed Step\n",
      "The bridge is collapsing !\n"
     ]
    }
   ],
   "source": [
    "def cross_bridge(distance):\n",
    "    #step_count is used to measure the amount of steps we have  covered \n",
    "    step_count = 0\n",
    "    #step_check is used to validate when we have exceed the maximum distance to cover\n",
    "    step_check = 5\n",
    "\n",
    "    while step_count < distance:\n",
    "        print(\"Crossed Step\")\n",
    "        step_count +=1\n",
    "    \n",
    "    if step_count <= step_check:\n",
    "        print(\"We must keep going! \")\n",
    "    else:\n",
    "        print(\"The bridge is collapsing !\")\n",
    "        \n",
    "\n",
    "cross_bridge(3)\n",
    "cross_bridge(6)"
   ]
  },
  {
   "cell_type": "markdown",
   "metadata": {},
   "source": [
    "# Activity 2.2.5: function_with_multi_parameters"
   ]
  },
  {
   "cell_type": "code",
   "execution_count": 147,
   "metadata": {},
   "outputs": [
    {
     "name": "stdout",
     "output_type": "stream",
     "text": [
      "Still some way to go !\n",
      "We are almost there !\n"
     ]
    }
   ],
   "source": [
    "# a climb function that checks the number of steps \n",
    "def climb_ladder(number_of_steps_remaining, number_of_steps_crossed):\n",
    "\n",
    "    # Using the if logic to compare steps completed and steps remaining\n",
    "    if number_of_steps_remaining > number_of_steps_crossed:\n",
    "        print(\"Still some way to go !\")\n",
    "    else:\n",
    "        print(\"We are almost there !\")\n",
    "\n",
    "# function call  below to test our climb ladder function\n",
    "climb_ladder(9,7)\n",
    "climb_ladder(6,10)"
   ]
  },
  {
   "cell_type": "code",
   "execution_count": null,
   "metadata": {},
   "outputs": [],
   "source": []
  }
 ],
 "metadata": {
  "kernelspec": {
   "display_name": "Python 3.9.0 ('MLseries': venv)",
   "language": "python",
   "name": "python3"
  },
  "language_info": {
   "codemirror_mode": {
    "name": "ipython",
    "version": 3
   },
   "file_extension": ".py",
   "mimetype": "text/x-python",
   "name": "python",
   "nbconvert_exporter": "python",
   "pygments_lexer": "ipython3",
   "version": "3.9.0"
  },
  "orig_nbformat": 4,
  "vscode": {
   "interpreter": {
    "hash": "3f8122ea538cd25ab16c16404576ed6f8cdf54d3516a53da4285bbcfeaea58c4"
   }
  }
 },
 "nbformat": 4,
 "nbformat_minor": 2
}
