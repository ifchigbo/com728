{
 "cells": [
  {
   "cell_type": "markdown",
   "id": "3b96eb0d",
   "metadata": {},
   "source": [
    "# Calculator Program"
   ]
  },
  {
   "cell_type": "code",
   "execution_count": 4,
   "id": "aa548eb4",
   "metadata": {},
   "outputs": [
    {
     "name": "stdout",
     "output_type": "stream",
     "text": [
      "Enter the first number: 2\n",
      "Enter the second number: 10\n",
      "enter the operation you want to execute: Subtraction\n",
      "The result of your subtraction operation is -8\n"
     ]
    }
   ],
   "source": [
    "#This program computes Addition, Substraction, Multiplicaton\n",
    "\n",
    "def Addition(num1, num2):\n",
    "    return num1 + num2 \n",
    "\n",
    "def Sub(num1, num2):\n",
    "    return num1 - num2 \n",
    "\n",
    "def Mul(num1, num2):\n",
    "    return num1 * num2 \n",
    "\n",
    "\n",
    "num1 = int(input(\"Enter the first number: \"))\n",
    "num2 = int(input(\"Enter the second number: \"))\n",
    "operation = input(\"enter the operation you want to execute: \")\n",
    "\n",
    "\n",
    "if operation == \"Addition\":\n",
    "    print(\"The result of your addtion operation is {}\".format(Addition(num1,  num2 )))\n",
    "elif operation == \"Subtraction\":\n",
    "    print(\"The result of your subtraction operation is {}\".format(Sub(num1,num2)))\n",
    "elif operation == \"Multiplication\":\n",
    "    print(\"The result of your multiplication operation is {}\".format(Mul(num1,num2)))\n",
    "else: \n",
    "    print(\"Invallid operation\")\n"
   ]
  },
  {
   "cell_type": "code",
   "execution_count": null,
   "id": "d6f843c8",
   "metadata": {},
   "outputs": [],
   "source": []
  }
 ],
 "metadata": {
  "kernelspec": {
   "display_name": "Python 3.9.0 ('MLseries': venv)",
   "language": "python",
   "name": "python3"
  },
  "language_info": {
   "codemirror_mode": {
    "name": "ipython",
    "version": 3
   },
   "file_extension": ".py",
   "mimetype": "text/x-python",
   "name": "python",
   "nbconvert_exporter": "python",
   "pygments_lexer": "ipython3",
   "version": "3.9.0"
  },
  "vscode": {
   "interpreter": {
    "hash": "355db077f91938a2da64fe784c91fafd2ca6eee95c2d8624151e9ace354f9883"
   }
  }
 },
 "nbformat": 4,
 "nbformat_minor": 5
}
